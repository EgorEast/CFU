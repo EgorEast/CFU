{
 "cells": [
  {
   "cell_type": "markdown",
   "metadata": {},
   "source": [
    "# TITANIC: Wrangling the Passenger Manifest\n",
    "\n",
    "## Exploratory Analysis with Pandas\n",
    "\n",
    "This tutorial is based on the Kaggle Competition,\n",
    "\"Predicting Survival Aboard the Titanic\"\n",
    "https://www.kaggle.com/c/titanic\n",
    "\n",
    "___Be sure to read the README before you begin!___\n",
    "\n",
    "See also:    \n",
    "http://www.analyticsvidhya.com/blog/2014/08/baby-steps-python-performing-exploratory-analysis-python/    \n",
    "http://www.analyticsvidhya.com/blog/2014/09/data-munging-python-using-pandas-baby-steps-python/"
   ]
  },
  {
   "cell_type": "code",
   "execution_count": 44,
   "metadata": {
    "collapsed": true
   },
   "outputs": [],
   "source": [
    "import pandas as pd\n",
    "import numpy as np\n",
    "import matplotlib.pyplot as plt\n",
    "import pandas.io.sql as pd_sql\n",
    "import sqlite3 as sql\n",
    "\n",
    "%matplotlib inline"
   ]
  },
  {
   "cell_type": "markdown",
   "metadata": {},
   "source": [
    "Here's a ```sqlite``` database for you to store the data once it's ready:"
   ]
  },
  {
   "cell_type": "code",
   "execution_count": 45,
   "metadata": {
    "collapsed": true
   },
   "outputs": [],
   "source": [
    "con = sql.connect(\"titanic.db\") "
   ]
  },
  {
   "cell_type": "markdown",
   "metadata": {},
   "source": [
    "__=>YOUR  TURN!__\n",
    "\n",
    "Use ```pandas``` to open up the csv.\n",
    "\n",
    "Read the documentation to find out how:\n",
    "http://pandas.pydata.org/pandas-docs/stable/generated/pandas.read_csv.html"
   ]
  },
  {
   "cell_type": "code",
   "execution_count": null,
   "metadata": {
    "collapsed": true
   },
   "outputs": [],
   "source": [
    "# Use pandas to open the csv. \n",
    "# You'll have to put in the filepath\n",
    "# It should look something like \"../titanic/data/train.csv\"\n",
    "\n",
    "df = "
   ]
  },
  {
   "cell_type": "markdown",
   "metadata": {},
   "source": [
    "### Exploring the Tabular Data"
   ]
  },
  {
   "cell_type": "markdown",
   "metadata": {},
   "source": [
    "The file we'll be exploring today, ```train.csv```, is the training set -- it represents\n",
    "a subset of the full passenger manifest dataset. The rest of the data is in another\n",
    "file called ```test.csv``` - we'll use that later (when we get to Machine Learning).\n",
    "Let's take a look..."
   ]
  },
  {
   "cell_type": "markdown",
   "metadata": {},
   "source": [
    "__=>YOUR  TURN!__\n",
    "\n",
    "Use ```pandas``` to view the \"head\" of the file with the first 10 rows.\n",
    "\n",
    "Read the documentation to find out how:    \n",
    "http://pandas.pydata.org/pandas-docs/stable/generated/pandas.DataFrame.head.html"
   ]
  },
  {
   "cell_type": "code",
   "execution_count": 2,
   "metadata": {
    "collapsed": false
   },
   "outputs": [],
   "source": [
    "# Use pandas to view the first 10 rows."
   ]
  },
  {
   "cell_type": "markdown",
   "metadata": {},
   "source": [
    "__What do you see?__\n",
    "    - Are there any missing values?\n",
    "    - What kinds of values/numbers/text are there?\n",
    "    - Are the values continuous or categorical?\n",
    "    - Are some variables more sparse than others?\n",
    "    - Are there multiple values in a single column?"
   ]
  },
  {
   "cell_type": "markdown",
   "metadata": {},
   "source": [
    "__=>YOUR  TURN!__\n",
    "\n",
    "Use ```pandas``` to run summary statistics on the data.\n",
    "\n",
    "Read the documentation to find out how:    \n",
    "http://pandas.pydata.org/pandas-docs/stable/generated/pandas.DataFrame.describe.html"
   ]
  },
  {
   "cell_type": "code",
   "execution_count": 3,
   "metadata": {
    "collapsed": false
   },
   "outputs": [],
   "source": [
    "# Use pandas to get the summary statistics."
   ]
  },
  {
   "cell_type": "markdown",
   "metadata": {},
   "source": [
    "__What can we infer from the summary statistics?__\n",
    "    - How many missing values does the 'Age' column have?\n",
    "    - What's the age distribution?\n",
    "    - What percent of the passengers survived?\n",
    "    - How many passengers belonged to Class 3?\n",
    "    - Are there any outliers in the 'Fare' column?"
   ]
  },
  {
   "cell_type": "markdown",
   "metadata": {},
   "source": [
    "__=>YOUR  TURN!__\n",
    "\n",
    "Use ```pandas``` to get the median for the Age column.\n",
    "\n",
    "Read the documentation to find out how:    \n",
    "http://pandas.pydata.org/pandas-docs/stable/generated/pandas.DataFrame.median.html"
   ]
  },
  {
   "cell_type": "code",
   "execution_count": 4,
   "metadata": {
    "collapsed": false
   },
   "outputs": [],
   "source": [
    "# Use pandas to get the median age."
   ]
  },
  {
   "cell_type": "markdown",
   "metadata": {},
   "source": [
    "__=>YOUR  TURN!__\n",
    "\n",
    "Use ```pandas``` to find the number of unique values in the Ticket column.\n",
    "\n",
    "Read the documentation to find out how:    \n",
    "http://pandas.pydata.org/pandas-docs/stable/generated/pandas.Series.nunique.html"
   ]
  },
  {
   "cell_type": "code",
   "execution_count": 5,
   "metadata": {
    "collapsed": false
   },
   "outputs": [],
   "source": [
    "# Use pandas to count the number of unique Ticket values."
   ]
  },
  {
   "cell_type": "markdown",
   "metadata": {},
   "source": [
    "### Visually Exploring the Data"
   ]
  },
  {
   "cell_type": "markdown",
   "metadata": {},
   "source": [
    "Let's look at a histogram of the age distribution.\n",
    "What can you tell from the graph?"
   ]
  },
  {
   "cell_type": "code",
   "execution_count": null,
   "metadata": {
    "collapsed": false
   },
   "outputs": [],
   "source": [
    "fig = plt.figure()\n",
    "ax = fig.add_subplot(111)\n",
    "ax.hist(df['Age'], bins = 10, range = (df['Age'].min(),df['Age'].max()))\n",
    "plt.title('Age distribution')\n",
    "plt.xlabel('Age')\n",
    "plt.ylabel('Count of Passengers')\n",
    "plt.show()"
   ]
  },
  {
   "cell_type": "markdown",
   "metadata": {},
   "source": [
    "Now let's look at a histogram of the fares.\n",
    "What does it tell you?"
   ]
  },
  {
   "cell_type": "code",
   "execution_count": null,
   "metadata": {
    "collapsed": false
   },
   "outputs": [],
   "source": [
    "fig = plt.figure()\n",
    "ax = fig.add_subplot(111)\n",
    "ax.hist(df['Fare'], bins = 10, range = (df['Fare'].min(),df['Fare'].max()))\n",
    "plt.title('Fare distribution')\n",
    "plt.xlabel('Fare')\n",
    "plt.ylabel('Count of Passengers')\n",
    "plt.show()"
   ]
  },
  {
   "cell_type": "markdown",
   "metadata": {},
   "source": [
    "### Dealing with Missing Values\n",
    "\n",
    "Part of data wrangling is figuring out how to deal with missing values.\n",
    "But before you decide, think about which variables are likely to be predictive\n",
    "of survival. Which ones do you think will be the best predictors?\n",
    "\n",
    "__Age__\n",
    "Age is likely to play a role, so we'll probably want to estimate or 'impute'\n",
    "the missing values in some way.\n",
    "\n",
    "__Fare__\n",
    "There are a lot of extremes on the high end and low end for ticket fares.\n",
    "How should we handle them?\n",
    "\n",
    "__Other Variables__\n",
    "What do YOU think??"
   ]
  },
  {
   "cell_type": "markdown",
   "metadata": {},
   "source": [
    "__=>YOUR  TURN!__\n",
    "\n",
    "Use ```pandas``` to get the sum of all the null values in the Cabin column.\n",
    "\n",
    "Read the documentation to find out how:    \n",
    "http://pandas.pydata.org/pandas-docs/stable/generated/pandas.isnull.html    \n",
    "http://pandas.pydata.org/pandas-docs/stable/generated/pandas.DataFrame.sum.html"
   ]
  },
  {
   "cell_type": "code",
   "execution_count": 6,
   "metadata": {
    "collapsed": false
   },
   "outputs": [],
   "source": [
    "# Use pandas to sum the null Cabin values."
   ]
  },
  {
   "cell_type": "markdown",
   "metadata": {},
   "source": [
    "__=>YOUR  TURN!__\n",
    "\n",
    "Use ```pandas``` to drop the Ticket column.\n",
    "\n",
    "Read the documentation to find out how:    \n",
    "http://pandas.pydata.org/pandas-docs/stable/generated/pandas.DataFrame.drop.html"
   ]
  },
  {
   "cell_type": "code",
   "execution_count": 7,
   "metadata": {
    "collapsed": false
   },
   "outputs": [],
   "source": [
    "# Use pandas to drop the Ticket column."
   ]
  },
  {
   "cell_type": "markdown",
   "metadata": {},
   "source": [
    "__=>YOUR  TURN!__\n",
    "\n",
    "Use ```pandas``` to calculate the mean age and fill all the null values in the Age column with that number..\n",
    "\n",
    "Read the documentation to find out how:    \n",
    "http://pandas.pydata.org/pandas-docs/stable/generated/pandas.DataFrame.mean.html     \n",
    "http://pandas.pydata.org/pandas-docs/stable/generated/pandas.DataFrame.fillna.html"
   ]
  },
  {
   "cell_type": "code",
   "execution_count": 8,
   "metadata": {
    "collapsed": false
   },
   "outputs": [],
   "source": [
    "# Use pandas to get the mean Age.\n",
    "# Use pandas to fill in the null Age values with the mean."
   ]
  },
  {
   "cell_type": "markdown",
   "metadata": {},
   "source": [
    "### Save Your Work\n",
    "...you will need it in a few weeks!"
   ]
  },
  {
   "cell_type": "markdown",
   "metadata": {},
   "source": [
    "__=>YOUR  TURN!__\n",
    "\n",
    "Use ```pandas``` to write your dataframe to our sqlite database.\n",
    "\n",
    "Read the documentation to find out how:   \n",
    "http://pandas.pydata.org/pandas-docs/stable/generated/pandas.DataFrame.to_sql.html"
   ]
  },
  {
   "cell_type": "code",
   "execution_count": 9,
   "metadata": {
    "collapsed": true
   },
   "outputs": [],
   "source": [
    "# Use pandas to save your dataframe to a sqlite database."
   ]
  }
 ],
 "metadata": {
  "kernelspec": {
   "display_name": "Python 2",
   "language": "python",
   "name": "python2"
  },
  "language_info": {
   "codemirror_mode": {
    "name": "ipython",
    "version": 2
   },
   "file_extension": ".py",
   "mimetype": "text/x-python",
   "name": "python",
   "nbconvert_exporter": "python",
   "pygments_lexer": "ipython2",
   "version": "2.7.10"
  }
 },
 "nbformat": 4,
 "nbformat_minor": 0
}
